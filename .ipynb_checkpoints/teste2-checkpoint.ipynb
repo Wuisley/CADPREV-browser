{
 "cells": [
  {
   "cell_type": "markdown",
   "id": "0851dc52",
   "metadata": {},
   "source": [
    "# Automatização"
   ]
  },
  {
   "cell_type": "code",
   "execution_count": 133,
   "id": "aa7a0f09",
   "metadata": {},
   "outputs": [
    {
     "name": "stdout",
     "output_type": "stream",
     "text": [
      "Collecting selenium\n",
      "  Downloading selenium-4.5.0-py3-none-any.whl (995 kB)\n",
      "Collecting trio-websocket~=0.9\n",
      "  Downloading trio_websocket-0.9.2-py3-none-any.whl (16 kB)\n",
      "Requirement already satisfied: urllib3[socks]~=1.26 in c:\\users\\wuisl\\anaconda3\\lib\\site-packages (from selenium) (1.26.9)\n",
      "Collecting trio~=0.17\n",
      "  Downloading trio-0.22.0-py3-none-any.whl (384 kB)\n",
      "Requirement already satisfied: certifi>=2021.10.8 in c:\\users\\wuisl\\anaconda3\\lib\\site-packages (from selenium) (2021.10.8)\n",
      "Collecting async-generator>=1.9\n",
      "  Downloading async_generator-1.10-py3-none-any.whl (18 kB)\n",
      "Collecting exceptiongroup>=1.0.0rc9\n",
      "  Downloading exceptiongroup-1.0.0rc9-py3-none-any.whl (12 kB)\n",
      "Requirement already satisfied: cffi>=1.14 in c:\\users\\wuisl\\anaconda3\\lib\\site-packages (from trio~=0.17->selenium) (1.15.0)\n",
      "Collecting outcome\n",
      "  Downloading outcome-1.2.0-py2.py3-none-any.whl (9.7 kB)\n",
      "Requirement already satisfied: attrs>=19.2.0 in c:\\users\\wuisl\\anaconda3\\lib\\site-packages (from trio~=0.17->selenium) (21.4.0)\n",
      "Requirement already satisfied: idna in c:\\users\\wuisl\\anaconda3\\lib\\site-packages (from trio~=0.17->selenium) (3.3)\n",
      "Requirement already satisfied: sortedcontainers in c:\\users\\wuisl\\anaconda3\\lib\\site-packages (from trio~=0.17->selenium) (2.4.0)\n",
      "Requirement already satisfied: sniffio in c:\\users\\wuisl\\anaconda3\\lib\\site-packages (from trio~=0.17->selenium) (1.2.0)\n",
      "Requirement already satisfied: pycparser in c:\\users\\wuisl\\anaconda3\\lib\\site-packages (from cffi>=1.14->trio~=0.17->selenium) (2.21)\n",
      "Collecting wsproto>=0.14\n",
      "  Downloading wsproto-1.2.0-py3-none-any.whl (24 kB)\n",
      "Requirement already satisfied: PySocks!=1.5.7,<2.0,>=1.5.6 in c:\\users\\wuisl\\anaconda3\\lib\\site-packages (from urllib3[socks]~=1.26->selenium) (1.7.1)\n",
      "Collecting h11<1,>=0.9.0\n",
      "  Downloading h11-0.14.0-py3-none-any.whl (58 kB)\n",
      "Installing collected packages: outcome, h11, exceptiongroup, async-generator, wsproto, trio, trio-websocket, selenium\n",
      "Successfully installed async-generator-1.10 exceptiongroup-1.0.0rc9 h11-0.14.0 outcome-1.2.0 selenium-4.5.0 trio-0.22.0 trio-websocket-0.9.2 wsproto-1.2.0\n"
     ]
    }
   ],
   "source": [
    "#!pip install pyautogui\n",
    "#!pip install opencv-python\n",
    "#!pip install Openpyxl\n",
    "#!pip install workbook\n",
    "!pip install selenium"
   ]
  },
  {
   "cell_type": "code",
   "execution_count": 102,
   "id": "3db0007a",
   "metadata": {},
   "outputs": [],
   "source": [
    "import openpyxl as py\n",
    "import pyautogui\n",
    "import pyperclip #para conseguir usar texto com caracteres especiais\n",
    "import time #para conseguir dar pausa em uma etapa específica\n",
    "pyautogui.PAUSE = 1"
   ]
  },
  {
   "cell_type": "code",
   "execution_count": 103,
   "id": "b9446462",
   "metadata": {},
   "outputs": [],
   "source": [
    "# entrar no sistema desejado\n",
    "pyautogui.press('win')\n",
    "pyautogui.write('chrome')\n",
    "pyautogui.press('enter')\n",
    "pyperclip.copy('https://cadprev.previdencia.gov.br/Cadprev/pages/index.xhtml')\n",
    "pyautogui.hotkey('ctrl','v')\n",
    "pyautogui.press('enter')\n"
   ]
  },
  {
   "cell_type": "code",
   "execution_count": 104,
   "id": "52cfa25e",
   "metadata": {},
   "outputs": [],
   "source": [
    "#esperando um tempo para que carregue a págian do sistema\n",
    "#time.sleep(5)"
   ]
  },
  {
   "cell_type": "code",
   "execution_count": 132,
   "id": "ddef74b0",
   "metadata": {},
   "outputs": [
    {
     "ename": "SyntaxError",
     "evalue": "invalid syntax (4158583987.py, line 11)",
     "output_type": "error",
     "traceback": [
      "\u001b[1;36m  Input \u001b[1;32mIn [132]\u001b[1;36m\u001b[0m\n\u001b[1;33m    if celula.value = \"\"\u001b[0m\n\u001b[1;37m                    ^\u001b[0m\n\u001b[1;31mSyntaxError\u001b[0m\u001b[1;31m:\u001b[0m invalid syntax\n"
     ]
    }
   ],
   "source": [
    "#para saber onde que deve clicar\n",
    "#time.sleep(2)\n",
    "#pyautogui.position()\n",
    "\n",
    "#from openpyxl import Workbook, load_workbook\n",
    "arquivo = load_workbook(\"teste.xlsx\")\n",
    "aba1 = arquivo[\"Planilha1\"]\n",
    "x = aba1[\"B2\"].value\n",
    "aba2 = arquivo[\"Planilha2\"]\n",
    "for celula in aba2['A']:\n",
    "    if celula.value = \"\"\n",
    "    print(celula.value)\n",
    "#pyautogui.hotkey('ctrl','c')"
   ]
  },
  {
   "cell_type": "code",
   "execution_count": 106,
   "id": "1ece3c1d",
   "metadata": {},
   "outputs": [],
   "source": [
    "## navegando até a pasta objetivo\n",
    "while not pyautogui.locateOnScreen(\"cadprev1.png\", confidence=0.9): #sempre usar aspas duplas\n",
    "    time.sleep(1)\n",
    "pyautogui.click(x=78, y=273, clicks = 1) # consulta pública\n",
    "pyautogui.click(x=67, y=475, clicks = 1) # DIPR\n",
    "while not pyautogui.locateOnScreen(\"cadprev2.png\", confidence=0.9):\n",
    "    time.sleep(1)\n",
    "pyautogui.click(x=1207, y=256, clicks = 1) # localizar ente\n",
    "while not pyautogui.locateOnScreen(\"cadprev3.png\", confidence=0.7):\n",
    "    time.sleep(1)\n",
    "pyautogui.click(x=879, y=255, clicks = 2) # barra do nome do ente\n",
    "pyperclip.copy(x) #pesquisa do ente\n",
    "pyautogui.hotkey('ctrl','v')\n",
    "#pyautogui.click(x=1555, y=214, clicks = 1) #tirando a seleção\n",
    "time.sleep(1)\n",
    "pyautogui.press('enter')\n",
    "while not pyautogui.locateOnScreen(\"cadprev4.png\", confidence=0.7):\n",
    "    time.sleep(1)\n",
    "pyautogui.click(x=1376, y=432, clicks = 1) #seleciona o município\n",
    "while not pyautogui.locateOnScreen(\"cadprev5.png\", confidence=0.7):\n",
    "    time.sleep(1)\n",
    "pyautogui.click(x=677, y=278, clicks = 1) #selecionar o ano e exercício\n",
    "pyautogui.write(\"2021\")\n",
    "pyautogui.click(x=931, y=418, clicks = 1) # não sou UM ROBÔ KKKKKK\n",
    "pyautogui.click(x=1056, y=442, clicks = 1) #consultar\n",
    "while not pyautogui.locateOnScreen(\"cadprev6.png\", confidence=0.7):\n",
    "    time.sleep(1)\n",
    "pyautogui.click(x=1597, y=510, clicks = 1) #vizualizando a DIPR mais recente"
   ]
  },
  {
   "cell_type": "code",
   "execution_count": null,
   "id": "01910805",
   "metadata": {},
   "outputs": [],
   "source": []
  },
  {
   "cell_type": "code",
   "execution_count": null,
   "id": "3cf65682",
   "metadata": {},
   "outputs": [],
   "source": []
  }
 ],
 "metadata": {
  "kernelspec": {
   "display_name": "Python 3 (ipykernel)",
   "language": "python",
   "name": "python3"
  },
  "language_info": {
   "codemirror_mode": {
    "name": "ipython",
    "version": 3
   },
   "file_extension": ".py",
   "mimetype": "text/x-python",
   "name": "python",
   "nbconvert_exporter": "python",
   "pygments_lexer": "ipython3",
   "version": "3.9.12"
  }
 },
 "nbformat": 4,
 "nbformat_minor": 5
}
