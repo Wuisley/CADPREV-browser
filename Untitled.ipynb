{
 "cells": [
  {
   "cell_type": "markdown",
   "id": "0851dc52",
   "metadata": {},
   "source": [
    "# Automatização"
   ]
  },
  {
   "cell_type": "code",
   "execution_count": 1,
   "id": "aa7a0f09",
   "metadata": {},
   "outputs": [
    {
     "name": "stdout",
     "output_type": "stream",
     "text": [
      "Requirement already satisfied: Openpyxl in c:\\users\\wuisl\\anaconda3\\lib\\site-packages (3.0.9)\n",
      "Requirement already satisfied: et-xmlfile in c:\\users\\wuisl\\anaconda3\\lib\\site-packages (from Openpyxl) (1.1.0)\n"
     ]
    }
   ],
   "source": [
    "#!pip install pyautogui\n",
    "#!pip install opencv-python\n",
    "#!pip install Openpyxl\n",
    "\n"
   ]
  },
  {
   "cell_type": "code",
   "execution_count": 104,
   "id": "3db0007a",
   "metadata": {},
   "outputs": [],
   "source": [
    "import pyautogui\n",
    "import pyperclip #para conseguir usar texto com caracteres especiais\n",
    "import time #para conseguir dar pausa em uma etapa específica\n",
    "pyautogui.PAUSE = 1"
   ]
  },
  {
   "cell_type": "code",
   "execution_count": 105,
   "id": "b9446462",
   "metadata": {},
   "outputs": [],
   "source": [
    "# entrar no sistema desejado\n",
    "pyautogui.press('win')\n",
    "pyautogui.write('chrome')\n",
    "pyautogui.press('enter')\n",
    "pyperclip.copy('https://cadprev.previdencia.gov.br/Cadprev/pages/index.xhtml')\n",
    "pyautogui.hotkey('ctrl','v')\n",
    "pyautogui.press('enter')\n"
   ]
  },
  {
   "cell_type": "code",
   "execution_count": 106,
   "id": "52cfa25e",
   "metadata": {},
   "outputs": [],
   "source": [
    "#esperando um tempo para que carregue a págian do sistema\n",
    "#time.sleep(5)"
   ]
  },
  {
   "cell_type": "code",
   "execution_count": 107,
   "id": "dad5e3fe",
   "metadata": {},
   "outputs": [],
   "source": [
    "#para saber onde que deve clicar\n",
    "time.sleep(2)\n",
    "#pyautogui.position()\n"
   ]
  },
  {
   "cell_type": "code",
   "execution_count": 108,
   "id": "1ece3c1d",
   "metadata": {},
   "outputs": [],
   "source": [
    "## navegando até a pasta objetivo\n",
    "while not pyautogui.locateOnScreen(\"cadprev1.png\", confidence=0.9): #sempre usar aspas duplas\n",
    "    time.sleep(1)\n",
    "pyautogui.click(x=78, y=273, clicks = 1) # consulta pública\n",
    "pyautogui.click(x=67, y=475, clicks = 1) # DIPR\n",
    "while not pyautogui.locateOnScreen(\"cadprev2.png\", confidence=0.9):\n",
    "    time.sleep(1)\n",
    "pyautogui.click(x=1207, y=256, clicks = 1) # localizar ente\n",
    "while not pyautogui.locateOnScreen(\"cadprev3.png\", confidence=0.7):\n",
    "    time.sleep(1)\n",
    "pyautogui.click(x=879, y=255, clicks = 1) # barra do nome do ente\n",
    "pyperclip.copy('natal') #pesquisa do ente\n",
    "pyautogui.hotkey('ctrl','v')\n",
    "#pyautogui.click(x=1555, y=214, clicks = 1) #tirando a seleção\n",
    "time.sleep(1)\n",
    "pyautogui.press('enter')\n",
    "while not pyautogui.locateOnScreen(\"cadprev4.png\", confidence=0.7):\n",
    "    time.sleep(1)\n",
    "pyautogui.click(x=1376, y=432, clicks = 1) #seleciona o município\n",
    "while not pyautogui.locateOnScreen(\"cadprev5.png\", confidence=0.7):\n",
    "    time.sleep(1)\n",
    "pyautogui.click(x=677, y=278, clicks = 1) #selecionar o ano e exercício\n",
    "pyautogui.write(\"2021\")\n",
    "pyautogui.click(x=931, y=418, clicks = 1) # não sou UM ROBÔ KKKKKK\n",
    "pyautogui.click(x=1056, y=442, clicks = 1) #consultar\n",
    "while not pyautogui.locateOnScreen(\"cadprev6.png\", confidence=0.7):\n",
    "    time.sleep(1)\n",
    "pyautogui.click(x=1597, y=510, clicks = 1) #vizualizando a DIPR mais recente"
   ]
  },
  {
   "cell_type": "code",
   "execution_count": null,
   "id": "01910805",
   "metadata": {},
   "outputs": [],
   "source": []
  }
 ],
 "metadata": {
  "kernelspec": {
   "display_name": "Python 3 (ipykernel)",
   "language": "python",
   "name": "python3"
  },
  "language_info": {
   "codemirror_mode": {
    "name": "ipython",
    "version": 3
   },
   "file_extension": ".py",
   "mimetype": "text/x-python",
   "name": "python",
   "nbconvert_exporter": "python",
   "pygments_lexer": "ipython3",
   "version": "3.9.12"
  }
 },
 "nbformat": 4,
 "nbformat_minor": 5
}
